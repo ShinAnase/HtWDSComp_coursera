{
 "cells": [
  {
   "cell_type": "code",
   "execution_count": 1,
   "metadata": {},
   "outputs": [],
   "source": [
    "import numpy as np\n",
    "import pandas as pd\n",
    "from sklearn.model_selection import StratifiedKFold, KFold\n",
    "import lightgbm as lgb\n",
    "from sklearn.model_selection import GridSearchCV\n",
    "import matplotlib.pyplot as plt\n",
    "import seaborn as sns"
   ]
  },
  {
   "cell_type": "code",
   "execution_count": 2,
   "metadata": {},
   "outputs": [
    {
     "name": "stdout",
     "output_type": "stream",
     "text": [
      "Wall time: 152 ms\n"
     ]
    }
   ],
   "source": [
    "%%time\n",
    "train = pd.read_csv(\"train.csv\")"
   ]
  },
  {
   "cell_type": "code",
   "execution_count": 3,
   "metadata": {},
   "outputs": [
    {
     "data": {
      "text/plain": [
       "(891, 12)"
      ]
     },
     "execution_count": 3,
     "metadata": {},
     "output_type": "execute_result"
    }
   ],
   "source": [
    "train.shape"
   ]
  },
  {
   "cell_type": "code",
   "execution_count": 4,
   "metadata": {},
   "outputs": [
    {
     "data": {
      "text/html": [
       "<div>\n",
       "<style scoped>\n",
       "    .dataframe tbody tr th:only-of-type {\n",
       "        vertical-align: middle;\n",
       "    }\n",
       "\n",
       "    .dataframe tbody tr th {\n",
       "        vertical-align: top;\n",
       "    }\n",
       "\n",
       "    .dataframe thead th {\n",
       "        text-align: right;\n",
       "    }\n",
       "</style>\n",
       "<table border=\"1\" class=\"dataframe\">\n",
       "  <thead>\n",
       "    <tr style=\"text-align: right;\">\n",
       "      <th></th>\n",
       "      <th>PassengerId</th>\n",
       "      <th>Survived</th>\n",
       "      <th>Pclass</th>\n",
       "      <th>Name</th>\n",
       "      <th>Sex</th>\n",
       "      <th>Age</th>\n",
       "      <th>SibSp</th>\n",
       "      <th>Parch</th>\n",
       "      <th>Ticket</th>\n",
       "      <th>Fare</th>\n",
       "      <th>Cabin</th>\n",
       "      <th>Embarked</th>\n",
       "    </tr>\n",
       "  </thead>\n",
       "  <tbody>\n",
       "    <tr>\n",
       "      <th>0</th>\n",
       "      <td>1</td>\n",
       "      <td>0</td>\n",
       "      <td>3</td>\n",
       "      <td>Braund, Mr. Owen Harris</td>\n",
       "      <td>male</td>\n",
       "      <td>22.0</td>\n",
       "      <td>1</td>\n",
       "      <td>0</td>\n",
       "      <td>A/5 21171</td>\n",
       "      <td>7.2500</td>\n",
       "      <td>NaN</td>\n",
       "      <td>S</td>\n",
       "    </tr>\n",
       "    <tr>\n",
       "      <th>1</th>\n",
       "      <td>2</td>\n",
       "      <td>1</td>\n",
       "      <td>1</td>\n",
       "      <td>Cumings, Mrs. John Bradley (Florence Briggs Th...</td>\n",
       "      <td>female</td>\n",
       "      <td>38.0</td>\n",
       "      <td>1</td>\n",
       "      <td>0</td>\n",
       "      <td>PC 17599</td>\n",
       "      <td>71.2833</td>\n",
       "      <td>C85</td>\n",
       "      <td>C</td>\n",
       "    </tr>\n",
       "    <tr>\n",
       "      <th>2</th>\n",
       "      <td>3</td>\n",
       "      <td>1</td>\n",
       "      <td>3</td>\n",
       "      <td>Heikkinen, Miss. Laina</td>\n",
       "      <td>female</td>\n",
       "      <td>26.0</td>\n",
       "      <td>0</td>\n",
       "      <td>0</td>\n",
       "      <td>STON/O2. 3101282</td>\n",
       "      <td>7.9250</td>\n",
       "      <td>NaN</td>\n",
       "      <td>S</td>\n",
       "    </tr>\n",
       "    <tr>\n",
       "      <th>3</th>\n",
       "      <td>4</td>\n",
       "      <td>1</td>\n",
       "      <td>1</td>\n",
       "      <td>Futrelle, Mrs. Jacques Heath (Lily May Peel)</td>\n",
       "      <td>female</td>\n",
       "      <td>35.0</td>\n",
       "      <td>1</td>\n",
       "      <td>0</td>\n",
       "      <td>113803</td>\n",
       "      <td>53.1000</td>\n",
       "      <td>C123</td>\n",
       "      <td>S</td>\n",
       "    </tr>\n",
       "    <tr>\n",
       "      <th>4</th>\n",
       "      <td>5</td>\n",
       "      <td>0</td>\n",
       "      <td>3</td>\n",
       "      <td>Allen, Mr. William Henry</td>\n",
       "      <td>male</td>\n",
       "      <td>35.0</td>\n",
       "      <td>0</td>\n",
       "      <td>0</td>\n",
       "      <td>373450</td>\n",
       "      <td>8.0500</td>\n",
       "      <td>NaN</td>\n",
       "      <td>S</td>\n",
       "    </tr>\n",
       "    <tr>\n",
       "      <th>5</th>\n",
       "      <td>6</td>\n",
       "      <td>0</td>\n",
       "      <td>3</td>\n",
       "      <td>Moran, Mr. James</td>\n",
       "      <td>male</td>\n",
       "      <td>NaN</td>\n",
       "      <td>0</td>\n",
       "      <td>0</td>\n",
       "      <td>330877</td>\n",
       "      <td>8.4583</td>\n",
       "      <td>NaN</td>\n",
       "      <td>Q</td>\n",
       "    </tr>\n",
       "    <tr>\n",
       "      <th>6</th>\n",
       "      <td>7</td>\n",
       "      <td>0</td>\n",
       "      <td>1</td>\n",
       "      <td>McCarthy, Mr. Timothy J</td>\n",
       "      <td>male</td>\n",
       "      <td>54.0</td>\n",
       "      <td>0</td>\n",
       "      <td>0</td>\n",
       "      <td>17463</td>\n",
       "      <td>51.8625</td>\n",
       "      <td>E46</td>\n",
       "      <td>S</td>\n",
       "    </tr>\n",
       "    <tr>\n",
       "      <th>7</th>\n",
       "      <td>8</td>\n",
       "      <td>0</td>\n",
       "      <td>3</td>\n",
       "      <td>Palsson, Master. Gosta Leonard</td>\n",
       "      <td>male</td>\n",
       "      <td>2.0</td>\n",
       "      <td>3</td>\n",
       "      <td>1</td>\n",
       "      <td>349909</td>\n",
       "      <td>21.0750</td>\n",
       "      <td>NaN</td>\n",
       "      <td>S</td>\n",
       "    </tr>\n",
       "    <tr>\n",
       "      <th>8</th>\n",
       "      <td>9</td>\n",
       "      <td>1</td>\n",
       "      <td>3</td>\n",
       "      <td>Johnson, Mrs. Oscar W (Elisabeth Vilhelmina Berg)</td>\n",
       "      <td>female</td>\n",
       "      <td>27.0</td>\n",
       "      <td>0</td>\n",
       "      <td>2</td>\n",
       "      <td>347742</td>\n",
       "      <td>11.1333</td>\n",
       "      <td>NaN</td>\n",
       "      <td>S</td>\n",
       "    </tr>\n",
       "    <tr>\n",
       "      <th>9</th>\n",
       "      <td>10</td>\n",
       "      <td>1</td>\n",
       "      <td>2</td>\n",
       "      <td>Nasser, Mrs. Nicholas (Adele Achem)</td>\n",
       "      <td>female</td>\n",
       "      <td>14.0</td>\n",
       "      <td>1</td>\n",
       "      <td>0</td>\n",
       "      <td>237736</td>\n",
       "      <td>30.0708</td>\n",
       "      <td>NaN</td>\n",
       "      <td>C</td>\n",
       "    </tr>\n",
       "  </tbody>\n",
       "</table>\n",
       "</div>"
      ],
      "text/plain": [
       "   PassengerId  Survived  Pclass  \\\n",
       "0            1         0       3   \n",
       "1            2         1       1   \n",
       "2            3         1       3   \n",
       "3            4         1       1   \n",
       "4            5         0       3   \n",
       "5            6         0       3   \n",
       "6            7         0       1   \n",
       "7            8         0       3   \n",
       "8            9         1       3   \n",
       "9           10         1       2   \n",
       "\n",
       "                                                Name     Sex   Age  SibSp  \\\n",
       "0                            Braund, Mr. Owen Harris    male  22.0      1   \n",
       "1  Cumings, Mrs. John Bradley (Florence Briggs Th...  female  38.0      1   \n",
       "2                             Heikkinen, Miss. Laina  female  26.0      0   \n",
       "3       Futrelle, Mrs. Jacques Heath (Lily May Peel)  female  35.0      1   \n",
       "4                           Allen, Mr. William Henry    male  35.0      0   \n",
       "5                                   Moran, Mr. James    male   NaN      0   \n",
       "6                            McCarthy, Mr. Timothy J    male  54.0      0   \n",
       "7                     Palsson, Master. Gosta Leonard    male   2.0      3   \n",
       "8  Johnson, Mrs. Oscar W (Elisabeth Vilhelmina Berg)  female  27.0      0   \n",
       "9                Nasser, Mrs. Nicholas (Adele Achem)  female  14.0      1   \n",
       "\n",
       "   Parch            Ticket     Fare Cabin Embarked  \n",
       "0      0         A/5 21171   7.2500   NaN        S  \n",
       "1      0          PC 17599  71.2833   C85        C  \n",
       "2      0  STON/O2. 3101282   7.9250   NaN        S  \n",
       "3      0            113803  53.1000  C123        S  \n",
       "4      0            373450   8.0500   NaN        S  \n",
       "5      0            330877   8.4583   NaN        Q  \n",
       "6      0             17463  51.8625   E46        S  \n",
       "7      1            349909  21.0750   NaN        S  \n",
       "8      2            347742  11.1333   NaN        S  \n",
       "9      0            237736  30.0708   NaN        C  "
      ]
     },
     "execution_count": 4,
     "metadata": {},
     "output_type": "execute_result"
    }
   ],
   "source": [
    "train.head(10)"
   ]
  },
  {
   "cell_type": "code",
   "execution_count": 7,
   "metadata": {},
   "outputs": [
    {
     "data": {
      "text/plain": [
       "array([[<matplotlib.axes._subplots.AxesSubplot object at 0x0000011804D50908>,\n",
       "        <matplotlib.axes._subplots.AxesSubplot object at 0x0000011806DB2208>]],\n",
       "      dtype=object)"
      ]
     },
     "execution_count": 7,
     "metadata": {},
     "output_type": "execute_result"
    },
    {
     "data": {
      "image/png": "[encoded data removed]",
      "text/plain": [
       "<Figure size 720x288 with 2 Axes>"
      ]
     },
     "metadata": {
      "needs_background": "light"
     },
     "output_type": "display_data"
    }
   ],
   "source": [
    "train[[\"Age\", \"SibSp\"]].hist(figsize=(10, 4))"
   ]
  },
  {
   "cell_type": "code",
   "execution_count": 10,
   "metadata": {},
   "outputs": [
    {
     "name": "stderr",
     "output_type": "stream",
     "text": [
      "C:\\Users\\hfuis\\Anaconda3\\lib\\site-packages\\sklearn\\preprocessing\\data.py:323: DataConversionWarning: Data with input dtype int64, float64 were all converted to float64 by MinMaxScaler.\n",
      "  return self.partial_fit(X, y)\n"
     ]
    },
    {
     "data": {
      "text/plain": [
       "array([[<matplotlib.axes._subplots.AxesSubplot object at 0x0000011806E9FB70>,\n",
       "        <matplotlib.axes._subplots.AxesSubplot object at 0x00000118070051D0>]],\n",
       "      dtype=object)"
      ]
     },
     "execution_count": 10,
     "metadata": {},
     "output_type": "execute_result"
    },
    {
     "data": {
      "image/png": "[encoded data removed]",
      "text/plain": [
       "<Figure size 720x288 with 2 Axes>"
      ]
     },
     "metadata": {
      "needs_background": "light"
     },
     "output_type": "display_data"
    }
   ],
   "source": [
    "#MinMaxscaler\n",
    "from sklearn.preprocessing import MinMaxScaler\n",
    "\n",
    "scaler = MinMaxScaler()\n",
    "xtrain = scaler.fit_transform(train[[\"Age\", \"SibSp\"]])\n",
    "pd.DataFrame(xtrain).hist(figsize=(10, 4))"
   ]
  },
  {
   "cell_type": "code",
   "execution_count": 19,
   "metadata": {},
   "outputs": [
    {
     "data": {
      "text/plain": [
       "<matplotlib.axes._subplots.AxesSubplot at 0x2209c7305f8>"
      ]
     },
     "execution_count": 19,
     "metadata": {},
     "output_type": "execute_result"
    },
    {
     "data": {
      "image/png": "[encoded data removed]",
      "text/plain": [
       "<Figure size 432x288 with 1 Axes>"
      ]
     },
     "metadata": {
      "needs_background": "light"
     },
     "output_type": "display_data"
    }
   ],
   "source": [
    "#winsorization(外れ値の対応)\n",
    "x = pd.Series(train[\"SibSp\"])\n",
    "x.hist(bins = 30)"
   ]
  },
  {
   "cell_type": "code",
   "execution_count": 28,
   "metadata": {},
   "outputs": [
    {
     "data": {
      "text/plain": [
       "<matplotlib.axes._subplots.AxesSubplot at 0x2209c7e1e10>"
      ]
     },
     "execution_count": 28,
     "metadata": {},
     "output_type": "execute_result"
    },
    {
     "data": {
      "image/png": "[encoded data removed]",
      "text/plain": [
       "<Figure size 432x288 with 1 Axes>"
      ]
     },
     "metadata": {
      "needs_background": "light"
     },
     "output_type": "display_data"
    }
   ],
   "source": [
    "#99分位数まで限定。\n",
    "LOWER, UPPER = np.percentile(x,[0,99])\n",
    "#外れ値を最大、最小値に変更。\n",
    "y = np.clip(x, LOWER, UPPER)\n",
    "pd.Series(y).hist(bins = 30)"
   ]
  },
  {
   "cell_type": "code",
   "execution_count": 4,
   "metadata": {},
   "outputs": [],
   "source": [
    "# Bag of words\n",
    "from sklearn.feature_extraction.text import CountVectorizer, TfidfVectorizer"
   ]
  },
  {
   "cell_type": "code",
   "execution_count": 16,
   "metadata": {},
   "outputs": [
    {
     "name": "stdout",
     "output_type": "stream",
     "text": [
      "['about', 'am', 'course', 'everyone', 'excited', 'hi', 'so', 'this']\n",
      "<class 'scipy.sparse.csr.csr_matrix'>\n",
      "  (0, 4)\t1\n",
      "  (0, 5)\t1\n",
      "  (0, 3)\t1\n",
      "  (1, 4)\t1\n",
      "  (1, 1)\t1\n",
      "  (1, 6)\t1\n",
      "  (1, 0)\t1\n",
      "  (1, 7)\t1\n",
      "  (1, 2)\t1\n",
      "  (2, 4)\t3\n",
      "  (2, 1)\t1\n",
      "  (2, 6)\t2\n",
      "(3, 8)\n",
      "[[0 0 0 1 1 1 0 0]\n",
      " [1 1 1 0 1 0 1 1]\n",
      " [0 1 0 0 3 0 2 0]]\n"
     ]
    }
   ],
   "source": [
    "word = [\"(excited) Hi everyone!\", \"I am so excited about this course!\", \"So excited. SO EXCITED. EXCITED, I AM!\"]\n",
    "\n",
    "vectorizer = CountVectorizer()\n",
    "X = vectorizer.fit_transform(word)\n",
    "features = vectorizer.get_feature_names()\n",
    "\n",
    "print(features)\n",
    "\n",
    "print(type(X))\n",
    "print(X)\n",
    "print(X.shape)\n",
    "print(X.toarray())"
   ]
  },
  {
   "cell_type": "code",
   "execution_count": 22,
   "metadata": {},
   "outputs": [
    {
     "name": "stdout",
     "output_type": "stream",
     "text": [
      "[[0 0 0 1 1 1 0 0]\n",
      " [1 1 1 0 1 0 1 1]\n",
      " [0 1 0 0 3 0 2 0]]\n",
      "[[0.         0.         0.         0.33333333 0.33333333 0.33333333\n",
      "  0.         0.        ]\n",
      " [0.16666667 0.16666667 0.16666667 0.         0.16666667 0.\n",
      "  0.16666667 0.16666667]\n",
      " [0.         0.16666667 0.         0.         0.5        0.\n",
      "  0.33333333 0.        ]]\n",
      "[[0.33333333]\n",
      " [0.16666667]\n",
      " [0.16666667]]\n",
      "(3, 8)\n"
     ]
    }
   ],
   "source": [
    "#term frequency\n",
    "X_tf = X.toarray()\n",
    "tf = 1/X_tf.sum(axis = 1)[:, None]\n",
    "X_tf = X_tf*tf #行ごとの積(行列の積ではない)\n",
    "\n",
    "print(X.toarray())\n",
    "print(X_tf)\n",
    "print(tf)\n",
    "print(X_tf.shape)"
   ]
  },
  {
   "cell_type": "code",
   "execution_count": 23,
   "metadata": {},
   "outputs": [
    {
     "name": "stdout",
     "output_type": "stream",
     "text": [
      "[[0 0 0 1 1 1 0 0]\n",
      " [1 1 1 0 1 0 1 1]\n",
      " [0 1 0 0 3 0 2 0]]\n",
      "[[0.         0.         0.         0.33333333 0.33333333 0.33333333\n",
      "  0.         0.        ]\n",
      " [0.16666667 0.16666667 0.16666667 0.         0.16666667 0.\n",
      "  0.16666667 0.16666667]\n",
      " [0.         0.16666667 0.         0.         0.5        0.\n",
      "  0.33333333 0.        ]]\n",
      "[[0.         0.         0.         0.3662041  0.         0.3662041\n",
      "  0.         0.        ]\n",
      " [0.18310205 0.06757752 0.18310205 0.         0.         0.\n",
      "  0.06757752 0.18310205]\n",
      " [0.         0.06757752 0.         0.         0.         0.\n",
      "  0.13515504 0.        ]]\n",
      "[1.09861229 0.40546511 1.09861229 1.09861229 0.         1.09861229\n",
      " 0.40546511 1.09861229]\n",
      "(3, 8)\n"
     ]
    }
   ],
   "source": [
    "#inverse document frequency\n",
    "X_idf = X_tf\n",
    "idf = np.log(X_idf.shape[0]/(X_idf > 0).sum(0))\n",
    "X_idf = X_idf*idf\n",
    "\n",
    "print(X.toarray())\n",
    "print(X_tf)\n",
    "print(X_idf)\n",
    "print(idf)\n",
    "print(X_idf.shape)"
   ]
  },
  {
   "cell_type": "code",
   "execution_count": 25,
   "metadata": {},
   "outputs": [
    {
     "name": "stdout",
     "output_type": "stream",
     "text": [
      "['about', 'am', 'course', 'everyone', 'excited', 'hi', 'i', 'm', 'so', 'this']\n",
      "<class 'scipy.sparse.csr.csr_matrix'>\n",
      "  (0, 3)\t0.652490884512534\n",
      "  (0, 5)\t0.652490884512534\n",
      "  (0, 4)\t0.3853716274664007\n",
      "  (1, 2)\t0.42618350336974425\n",
      "  (1, 9)\t0.42618350336974425\n",
      "  (1, 0)\t0.42618350336974425\n",
      "  (1, 8)\t0.3241235393856436\n",
      "  (1, 7)\t0.42618350336974425\n",
      "  (1, 6)\t0.3241235393856436\n",
      "  (1, 4)\t0.2517108425440014\n",
      "  (2, 1)\t0.3771184202482633\n",
      "  (2, 8)\t0.5736165579940053\n",
      "  (2, 6)\t0.2868082789970027\n",
      "  (2, 4)\t0.6681966421670656\n",
      "(3, 10)\n",
      "[[0.         0.         0.         0.65249088 0.38537163 0.65249088\n",
      "  0.         0.         0.         0.        ]\n",
      " [0.4261835  0.         0.4261835  0.         0.25171084 0.\n",
      "  0.32412354 0.4261835  0.32412354 0.4261835 ]\n",
      " [0.         0.37711842 0.         0.         0.66819664 0.\n",
      "  0.28680828 0.         0.57361656 0.        ]]\n"
     ]
    }
   ],
   "source": [
    "word = [\"(excited) Hi everyone!\", \"I'm so excited about this course!\", \"So excited. SO EXCITED. EXCITED, I AM!\"]\n",
    "\n",
    "vectorizer = TfidfVectorizer(use_idf=True, token_pattern=u'(?u)\\\\b\\\\w+\\\\b')\n",
    "X = vectorizer.fit_transform(word)\n",
    "features = vectorizer.get_feature_names()\n",
    "\n",
    "print(features)\n",
    "\n",
    "print(type(X))\n",
    "print(X)\n",
    "print(X.shape)\n",
    "print(X.toarray())"
   ]
  },
  {
   "cell_type": "code",
   "execution_count": 4,
   "metadata": {},
   "outputs": [
    {
     "name": "stdout",
     "output_type": "stream",
     "text": [
      "['about this', 'am so', 'excited about', 'excited am', 'excited excited', 'excited hi', 'excited so', 'hi everyone', 'so excited', 'this course']\n",
      "<class 'scipy.sparse.csr.csr_matrix'>\n",
      "  (0, 5)\t1\n",
      "  (0, 7)\t1\n",
      "  (1, 1)\t1\n",
      "  (1, 8)\t1\n",
      "  (1, 2)\t1\n",
      "  (1, 0)\t1\n",
      "  (1, 9)\t1\n",
      "  (2, 8)\t2\n",
      "  (2, 6)\t1\n",
      "  (2, 4)\t1\n",
      "  (2, 3)\t1\n",
      "(3, 10)\n",
      "[[0 0 0 0 0 1 0 1 0 0]\n",
      " [1 1 1 0 0 0 0 0 1 1]\n",
      " [0 0 0 1 1 0 1 0 2 0]]\n"
     ]
    }
   ],
   "source": [
    "#Ngrams\n",
    "from sklearn.feature_extraction.text import CountVectorizer\n",
    "\n",
    "word = [\"(excited) Hi everyone!\", \"I am so excited about this course!\", \"So excited. SO EXCITED. EXCITED, I AM!\"]\n",
    "\n",
    "vectorizer = CountVectorizer(ngram_range = (2, 2))\n",
    "X = vectorizer.fit_transform(word)\n",
    "features = vectorizer.get_feature_names()\n",
    "\n",
    "print(features)\n",
    "\n",
    "print(type(X))\n",
    "print(X)\n",
    "print(X.shape)\n",
    "print(X.toarray())"
   ]
  },
  {
   "cell_type": "code",
   "execution_count": 5,
   "metadata": {},
   "outputs": [
    {
     "name": "stdout",
     "output_type": "stream",
     "text": [
      "['sunny', 'very']\n",
      "<class 'scipy.sparse.csr.csr_matrix'>\n",
      "  (0, 1)\t2\n",
      "  (0, 0)\t1\n",
      "  (1, 0)\t2\n",
      "(2, 2)\n",
      "[[1 2]\n",
      " [2 0]]\n"
     ]
    }
   ],
   "source": [
    "#lowercase\n",
    "word = [\"Very, very sunny.\",\"Sunny...sunny!\"]\n",
    "\n",
    "vectorizer = CountVectorizer()\n",
    "X = vectorizer.fit_transform(word)\n",
    "features = vectorizer.get_feature_names()\n",
    "\n",
    "print(features)\n",
    "\n",
    "print(type(X))\n",
    "print(X)\n",
    "print(X.shape)\n",
    "print(X.toarray())"
   ]
  },
  {
   "cell_type": "code",
   "execution_count": null,
   "metadata": {},
   "outputs": [],
   "source": []
  }
 ],
 "metadata": {
  "kernelspec": {
   "display_name": "Python 3",
   "language": "python",
   "name": "python3"
  },
  "language_info": {
   "codemirror_mode": {
    "name": "ipython",
    "version": 3
   },
   "file_extension": ".py",
   "mimetype": "text/x-python",
   "name": "python",
   "nbconvert_exporter": "python",
   "pygments_lexer": "ipython3",
   "version": "3.7.3"
  }
 },
 "nbformat": 4,
 "nbformat_minor": 2
}
